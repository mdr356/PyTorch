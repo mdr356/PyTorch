{
 "cells": [
  {
   "cell_type": "code",
   "execution_count": 236,
   "id": "4c56b5d2-5a2b-4f0f-99d4-3fecfa2deb00",
   "metadata": {},
   "outputs": [],
   "source": [
    "from sklearn.datasets import load_breast_cancer\n",
    "import torch\n",
    "import torch.nn as nn\n",
    "from torcheval.metrics import BinaryAccuracy\n",
    "import matplotlib.pyplot as plt"
   ]
  },
  {
   "cell_type": "code",
   "execution_count": 237,
   "id": "831f9dbd-ef1f-4eee-90fe-abfb923c5bbc",
   "metadata": {},
   "outputs": [
    {
     "data": {
      "text/plain": [
       "{'data': array([[1.799e+01, 1.038e+01, 1.228e+02, ..., 2.654e-01, 4.601e-01,\n",
       "         1.189e-01],\n",
       "        [2.057e+01, 1.777e+01, 1.329e+02, ..., 1.860e-01, 2.750e-01,\n",
       "         8.902e-02],\n",
       "        [1.969e+01, 2.125e+01, 1.300e+02, ..., 2.430e-01, 3.613e-01,\n",
       "         8.758e-02],\n",
       "        ...,\n",
       "        [1.660e+01, 2.808e+01, 1.083e+02, ..., 1.418e-01, 2.218e-01,\n",
       "         7.820e-02],\n",
       "        [2.060e+01, 2.933e+01, 1.401e+02, ..., 2.650e-01, 4.087e-01,\n",
       "         1.240e-01],\n",
       "        [7.760e+00, 2.454e+01, 4.792e+01, ..., 0.000e+00, 2.871e-01,\n",
       "         7.039e-02]]),\n",
       " 'target': array([0, 0, 0, 0, 0, 0, 0, 0, 0, 0, 0, 0, 0, 0, 0, 0, 0, 0, 0, 1, 1, 1,\n",
       "        0, 0, 0, 0, 0, 0, 0, 0, 0, 0, 0, 0, 0, 0, 0, 1, 0, 0, 0, 0, 0, 0,\n",
       "        0, 0, 1, 0, 1, 1, 1, 1, 1, 0, 0, 1, 0, 0, 1, 1, 1, 1, 0, 1, 0, 0,\n",
       "        1, 1, 1, 1, 0, 1, 0, 0, 1, 0, 1, 0, 0, 1, 1, 1, 0, 0, 1, 0, 0, 0,\n",
       "        1, 1, 1, 0, 1, 1, 0, 0, 1, 1, 1, 0, 0, 1, 1, 1, 1, 0, 1, 1, 0, 1,\n",
       "        1, 1, 1, 1, 1, 1, 1, 0, 0, 0, 1, 0, 0, 1, 1, 1, 0, 0, 1, 0, 1, 0,\n",
       "        0, 1, 0, 0, 1, 1, 0, 1, 1, 0, 1, 1, 1, 1, 0, 1, 1, 1, 1, 1, 1, 1,\n",
       "        1, 1, 0, 1, 1, 1, 1, 0, 0, 1, 0, 1, 1, 0, 0, 1, 1, 0, 0, 1, 1, 1,\n",
       "        1, 0, 1, 1, 0, 0, 0, 1, 0, 1, 0, 1, 1, 1, 0, 1, 1, 0, 0, 1, 0, 0,\n",
       "        0, 0, 1, 0, 0, 0, 1, 0, 1, 0, 1, 1, 0, 1, 0, 0, 0, 0, 1, 1, 0, 0,\n",
       "        1, 1, 1, 0, 1, 1, 1, 1, 1, 0, 0, 1, 1, 0, 1, 1, 0, 0, 1, 0, 1, 1,\n",
       "        1, 1, 0, 1, 1, 1, 1, 1, 0, 1, 0, 0, 0, 0, 0, 0, 0, 0, 0, 0, 0, 0,\n",
       "        0, 0, 1, 1, 1, 1, 1, 1, 0, 1, 0, 1, 1, 0, 1, 1, 0, 1, 0, 0, 1, 1,\n",
       "        1, 1, 1, 1, 1, 1, 1, 1, 1, 1, 1, 0, 1, 1, 0, 1, 0, 1, 1, 1, 1, 1,\n",
       "        1, 1, 1, 1, 1, 1, 1, 1, 1, 0, 1, 1, 1, 0, 1, 0, 1, 1, 1, 1, 0, 0,\n",
       "        0, 1, 1, 1, 1, 0, 1, 0, 1, 0, 1, 1, 1, 0, 1, 1, 1, 1, 1, 1, 1, 0,\n",
       "        0, 0, 1, 1, 1, 1, 1, 1, 1, 1, 1, 1, 1, 0, 0, 1, 0, 0, 0, 1, 0, 0,\n",
       "        1, 1, 1, 1, 1, 0, 1, 1, 1, 1, 1, 0, 1, 1, 1, 0, 1, 1, 0, 0, 1, 1,\n",
       "        1, 1, 1, 1, 0, 1, 1, 1, 1, 1, 1, 1, 0, 1, 1, 1, 1, 1, 0, 1, 1, 0,\n",
       "        1, 1, 1, 1, 1, 1, 1, 1, 1, 1, 1, 1, 0, 1, 0, 0, 1, 0, 1, 1, 1, 1,\n",
       "        1, 0, 1, 1, 0, 1, 0, 1, 1, 0, 1, 0, 1, 1, 1, 1, 1, 1, 1, 1, 0, 0,\n",
       "        1, 1, 1, 1, 1, 1, 0, 1, 1, 1, 1, 1, 1, 1, 1, 1, 1, 0, 1, 1, 1, 1,\n",
       "        1, 1, 1, 0, 1, 0, 1, 1, 0, 1, 1, 1, 1, 1, 0, 0, 1, 0, 1, 0, 1, 1,\n",
       "        1, 1, 1, 0, 1, 1, 0, 1, 0, 1, 0, 0, 1, 1, 1, 0, 1, 1, 1, 1, 1, 1,\n",
       "        1, 1, 1, 1, 1, 0, 1, 0, 0, 1, 1, 1, 1, 1, 1, 1, 1, 1, 1, 1, 1, 1,\n",
       "        1, 1, 1, 1, 1, 1, 1, 1, 1, 1, 1, 1, 0, 0, 0, 0, 0, 0, 1]),\n",
       " 'frame': None,\n",
       " 'target_names': array(['malignant', 'benign'], dtype='<U9'),\n",
       " 'DESCR': '.. _breast_cancer_dataset:\\n\\nBreast cancer wisconsin (diagnostic) dataset\\n--------------------------------------------\\n\\n**Data Set Characteristics:**\\n\\n    :Number of Instances: 569\\n\\n    :Number of Attributes: 30 numeric, predictive attributes and the class\\n\\n    :Attribute Information:\\n        - radius (mean of distances from center to points on the perimeter)\\n        - texture (standard deviation of gray-scale values)\\n        - perimeter\\n        - area\\n        - smoothness (local variation in radius lengths)\\n        - compactness (perimeter^2 / area - 1.0)\\n        - concavity (severity of concave portions of the contour)\\n        - concave points (number of concave portions of the contour)\\n        - symmetry\\n        - fractal dimension (\"coastline approximation\" - 1)\\n\\n        The mean, standard error, and \"worst\" or largest (mean of the three\\n        worst/largest values) of these features were computed for each image,\\n        resulting in 30 features.  For instance, field 0 is Mean Radius, field\\n        10 is Radius SE, field 20 is Worst Radius.\\n\\n        - class:\\n                - WDBC-Malignant\\n                - WDBC-Benign\\n\\n    :Summary Statistics:\\n\\n    ===================================== ====== ======\\n                                           Min    Max\\n    ===================================== ====== ======\\n    radius (mean):                        6.981  28.11\\n    texture (mean):                       9.71   39.28\\n    perimeter (mean):                     43.79  188.5\\n    area (mean):                          143.5  2501.0\\n    smoothness (mean):                    0.053  0.163\\n    compactness (mean):                   0.019  0.345\\n    concavity (mean):                     0.0    0.427\\n    concave points (mean):                0.0    0.201\\n    symmetry (mean):                      0.106  0.304\\n    fractal dimension (mean):             0.05   0.097\\n    radius (standard error):              0.112  2.873\\n    texture (standard error):             0.36   4.885\\n    perimeter (standard error):           0.757  21.98\\n    area (standard error):                6.802  542.2\\n    smoothness (standard error):          0.002  0.031\\n    compactness (standard error):         0.002  0.135\\n    concavity (standard error):           0.0    0.396\\n    concave points (standard error):      0.0    0.053\\n    symmetry (standard error):            0.008  0.079\\n    fractal dimension (standard error):   0.001  0.03\\n    radius (worst):                       7.93   36.04\\n    texture (worst):                      12.02  49.54\\n    perimeter (worst):                    50.41  251.2\\n    area (worst):                         185.2  4254.0\\n    smoothness (worst):                   0.071  0.223\\n    compactness (worst):                  0.027  1.058\\n    concavity (worst):                    0.0    1.252\\n    concave points (worst):               0.0    0.291\\n    symmetry (worst):                     0.156  0.664\\n    fractal dimension (worst):            0.055  0.208\\n    ===================================== ====== ======\\n\\n    :Missing Attribute Values: None\\n\\n    :Class Distribution: 212 - Malignant, 357 - Benign\\n\\n    :Creator:  Dr. William H. Wolberg, W. Nick Street, Olvi L. Mangasarian\\n\\n    :Donor: Nick Street\\n\\n    :Date: November, 1995\\n\\nThis is a copy of UCI ML Breast Cancer Wisconsin (Diagnostic) datasets.\\nhttps://goo.gl/U2Uwz2\\n\\nFeatures are computed from a digitized image of a fine needle\\naspirate (FNA) of a breast mass.  They describe\\ncharacteristics of the cell nuclei present in the image.\\n\\nSeparating plane described above was obtained using\\nMultisurface Method-Tree (MSM-T) [K. P. Bennett, \"Decision Tree\\nConstruction Via Linear Programming.\" Proceedings of the 4th\\nMidwest Artificial Intelligence and Cognitive Science Society,\\npp. 97-101, 1992], a classification method which uses linear\\nprogramming to construct a decision tree.  Relevant features\\nwere selected using an exhaustive search in the space of 1-4\\nfeatures and 1-3 separating planes.\\n\\nThe actual linear program used to obtain the separating plane\\nin the 3-dimensional space is that described in:\\n[K. P. Bennett and O. L. Mangasarian: \"Robust Linear\\nProgramming Discrimination of Two Linearly Inseparable Sets\",\\nOptimization Methods and Software 1, 1992, 23-34].\\n\\nThis database is also available through the UW CS ftp server:\\n\\nftp ftp.cs.wisc.edu\\ncd math-prog/cpo-dataset/machine-learn/WDBC/\\n\\n|details-start|\\n**References**\\n|details-split|\\n\\n- W.N. Street, W.H. Wolberg and O.L. Mangasarian. Nuclear feature extraction \\n  for breast tumor diagnosis. IS&T/SPIE 1993 International Symposium on \\n  Electronic Imaging: Science and Technology, volume 1905, pages 861-870,\\n  San Jose, CA, 1993.\\n- O.L. Mangasarian, W.N. Street and W.H. Wolberg. Breast cancer diagnosis and \\n  prognosis via linear programming. Operations Research, 43(4), pages 570-577, \\n  July-August 1995.\\n- W.H. Wolberg, W.N. Street, and O.L. Mangasarian. Machine learning techniques\\n  to diagnose breast cancer from fine-needle aspirates. Cancer Letters 77 (1994) \\n  163-171.\\n\\n|details-end|',\n",
       " 'feature_names': array(['mean radius', 'mean texture', 'mean perimeter', 'mean area',\n",
       "        'mean smoothness', 'mean compactness', 'mean concavity',\n",
       "        'mean concave points', 'mean symmetry', 'mean fractal dimension',\n",
       "        'radius error', 'texture error', 'perimeter error', 'area error',\n",
       "        'smoothness error', 'compactness error', 'concavity error',\n",
       "        'concave points error', 'symmetry error',\n",
       "        'fractal dimension error', 'worst radius', 'worst texture',\n",
       "        'worst perimeter', 'worst area', 'worst smoothness',\n",
       "        'worst compactness', 'worst concavity', 'worst concave points',\n",
       "        'worst symmetry', 'worst fractal dimension'], dtype='<U23'),\n",
       " 'filename': 'breast_cancer.csv',\n",
       " 'data_module': 'sklearn.datasets.data'}"
      ]
     },
     "execution_count": 237,
     "metadata": {},
     "output_type": "execute_result"
    }
   ],
   "source": [
    "data = load_breast_cancer()\n",
    "data"
   ]
  },
  {
   "cell_type": "code",
   "execution_count": 238,
   "id": "4f367bf6-414a-4fb9-bbc9-5a098cbdfcb9",
   "metadata": {},
   "outputs": [
    {
     "data": {
      "text/plain": [
       "'cpu'"
      ]
     },
     "execution_count": 238,
     "metadata": {},
     "output_type": "execute_result"
    }
   ],
   "source": [
    "# Set device type\n",
    "device = \"cuda\" if torch.cuda.is_available() else \"cpu\"\n",
    "device"
   ]
  },
  {
   "cell_type": "code",
   "execution_count": 239,
   "id": "b03e0d23-6286-4249-932c-3ef9aae4c4d1",
   "metadata": {},
   "outputs": [
    {
     "data": {
      "text/plain": [
       "(569, 569)"
      ]
     },
     "execution_count": 239,
     "metadata": {},
     "output_type": "execute_result"
    }
   ],
   "source": [
    "X = data.data\n",
    "y = data.target\n",
    "len(X), len(y)"
   ]
  },
  {
   "cell_type": "code",
   "execution_count": 240,
   "id": "b86da885-b4fa-4e0b-ad15-fae9159cfd82",
   "metadata": {},
   "outputs": [
    {
     "name": "stdout",
     "output_type": "stream",
     "text": [
      "number of input features: 30\n",
      "number of output label/classes: 1\n"
     ]
    }
   ],
   "source": [
    "NUM_IN_FEATURES = len(X[0])\n",
    "print(f'number of input features: {NUM_IN_FEATURES}')\n",
    "\n",
    "NUM_OUT_LABELS = 1 # since it's binary\n",
    "print(f'number of output label/classes: {NUM_OUT_LABELS}')"
   ]
  },
  {
   "cell_type": "code",
   "execution_count": 241,
   "id": "976deb58-a5cc-4325-b8c7-121125b52036",
   "metadata": {},
   "outputs": [
    {
     "name": "stdout",
     "output_type": "stream",
     "text": [
      "data type: float64\n"
     ]
    }
   ],
   "source": [
    "print(f'data type: {X.dtype}')"
   ]
  },
  {
   "cell_type": "code",
   "execution_count": 242,
   "id": "7db9f864-0259-49fd-831b-18e4e40ed3e2",
   "metadata": {},
   "outputs": [
    {
     "name": "stdout",
     "output_type": "stream",
     "text": [
      "transform data from array to tensor: torch.float32\n"
     ]
    }
   ],
   "source": [
    "X = torch.from_numpy(X).type(torch.float32).to(device)\n",
    "y = torch.from_numpy(y).type(torch.float32).to(device)\n",
    "print(f'transform data from array to tensor: {X.dtype}')"
   ]
  },
  {
   "cell_type": "code",
   "execution_count": 243,
   "id": "0b120745-645e-45b9-98de-8048331960cd",
   "metadata": {},
   "outputs": [
    {
     "data": {
      "text/plain": [
       "(455, 455, 114, 114)"
      ]
     },
     "execution_count": 243,
     "metadata": {},
     "output_type": "execute_result"
    }
   ],
   "source": [
    "# split training data to 80% and testing to 20%\n",
    "split = int(0.8*len(X))\n",
    "X_train = X[:split]\n",
    "y_train = y[:split]\n",
    "X_test = X[split:]\n",
    "y_test = y[split:]\n",
    "\n",
    "len(X_train), len(y_train), len(X_test), len(y_test)"
   ]
  },
  {
   "cell_type": "code",
   "execution_count": 244,
   "id": "9425009f-b24b-48f4-b45d-8f1bd92668e4",
   "metadata": {},
   "outputs": [],
   "source": [
    "# create input layer with hidden and output layer neural network\n",
    "class BreastCancerBinaryNNModule(nn.Module):\n",
    "    def __init__(self, num_in_features, num_out_labels, hidden_layer=512):\n",
    "        super().__init__()\n",
    "\n",
    "        self.linearLayer = nn.Sequential(\n",
    "            nn.Linear(in_features = num_in_features, out_features = hidden_layer),\n",
    "            nn.Linear(in_features = hidden_layer, out_features=hidden_layer),\n",
    "            nn.Linear(in_features = hidden_layer, out_features=hidden_layer),\n",
    "            nn.Linear(in_features = hidden_layer, out_features=num_out_labels)\n",
    "        )\n",
    "\n",
    "    def forward(self, x: torch.Tensor) -> torch.Tensor :\n",
    "        return self.linearLayer(x)\n",
    "    "
   ]
  },
  {
   "cell_type": "code",
   "execution_count": 245,
   "id": "f4cbd472-ea28-4653-8dde-85c7b724b6cb",
   "metadata": {},
   "outputs": [
    {
     "name": "stdout",
     "output_type": "stream",
     "text": [
      "<bound method Module.state_dict of BreastCancerBinaryNNModule(\n",
      "  (linearLayer): Sequential(\n",
      "    (0): Linear(in_features=30, out_features=512, bias=True)\n",
      "    (1): Linear(in_features=512, out_features=512, bias=True)\n",
      "    (2): Linear(in_features=512, out_features=512, bias=True)\n",
      "    (3): Linear(in_features=512, out_features=1, bias=True)\n",
      "  )\n",
      ")>\n"
     ]
    }
   ],
   "source": [
    "model = BreastCancerBinaryNNModule(NUM_IN_FEATURES, NUM_OUT_LABELS)\n",
    "print(model.state_dict)"
   ]
  },
  {
   "cell_type": "code",
   "execution_count": 246,
   "id": "e1a94e65-e088-4f9d-b9a4-e8ef29a65b9a",
   "metadata": {},
   "outputs": [],
   "source": [
    "# create loss function for binary classification\n",
    "# BCEWithLogitsLoss is more stable than using BCELoss which requires a sigmoid activation when used. \n",
    "# when we use BCEWithLogitsLoss, there's already a sigmoid activation on it's out, therefore, the output\n",
    "# is pred_logits, we need to round to get the predicted output that's needed\n",
    "loss_fn = nn.BCEWithLogitsLoss() \n",
    "\n",
    "# optimzer: we are using Stochastic Gradient Optimization or we can usen Adam\n",
    "# learning rate is a hyper parameter, we can experiement with to get better results.\n",
    "optimizer = torch.optim.SGD(model.parameters(), lr=0.001)\n"
   ]
  },
  {
   "cell_type": "code",
   "execution_count": 247,
   "id": "1b18488d-1ef1-4df8-ab7f-3974e745eee5",
   "metadata": {},
   "outputs": [
    {
     "name": "stdout",
     "output_type": "stream",
     "text": [
      "Train-Loss: 4.613244533538818, Train-Acc: [0.4087912142276764]%, Test-Loss: 410.9993896484375, Test-Acc: [0.4815465807914734]%\n",
      "Train-Loss: 0.18126723170280457, Train-Acc: [0.4087912142276764, 0.67578125]%, Test-Loss: 0.22798895835876465, Test-Acc: [0.4815465807914734, 0.696836531162262]%\n",
      "Train-Loss: 0.18570587038993835, Train-Acc: [0.4087912142276764, 0.67578125, 0.7620841264724731]%, Test-Loss: 0.2538801431655884, Test-Acc: [0.4815465807914734, 0.696836531162262, 0.7691857218742371]%\n",
      "Train-Loss: 0.17358531057834625, Train-Acc: [0.4087912142276764, 0.67578125, 0.7620841264724731, 0.8001850247383118]%, Test-Loss: 0.22618649899959564, Test-Acc: [0.4815465807914734, 0.696836531162262, 0.7691857218742371, 0.8053602576255798]%\n",
      "Train-Loss: 0.16929350793361664, Train-Acc: [0.4087912142276764, 0.67578125, 0.7620841264724731, 0.8001850247383118, 0.8238740563392639]%, Test-Loss: 0.22705087065696716, Test-Acc: [0.4815465807914734, 0.696836531162262, 0.7691857218742371, 0.8053602576255798, 0.8267135620117188]%\n",
      "Train-Loss: 0.16651619970798492, Train-Acc: [0.4087912142276764, 0.67578125, 0.7620841264724731, 0.8001850247383118, 0.8238740563392639, 0.839090883731842]%, Test-Loss: 0.22835464775562286, Test-Acc: [0.4815465807914734, 0.696836531162262, 0.7691857218742371, 0.8053602576255798, 0.8267135620117188, 0.8409490585327148]%\n",
      "Train-Loss: 0.16485784947872162, Train-Acc: [0.4087912142276764, 0.67578125, 0.7620841264724731, 0.8001850247383118, 0.8238740563392639, 0.839090883731842, 0.8498319983482361]%, Test-Loss: 0.22898617386817932, Test-Acc: [0.4815465807914734, 0.696836531162262, 0.7691857218742371, 0.8053602576255798, 0.8267135620117188, 0.8409490585327148, 0.8511172533035278]%\n",
      "Train-Loss: 0.16453684866428375, Train-Acc: [0.4087912142276764, 0.67578125, 0.7620841264724731, 0.8001850247383118, 0.8238740563392639, 0.839090883731842, 0.8498319983482361, 0.8578188419342041]%, Test-Loss: 0.2279462367296219, Test-Acc: [0.4815465807914734, 0.696836531162262, 0.7691857218742371, 0.8053602576255798, 0.8267135620117188, 0.8409490585327148, 0.8511172533035278, 0.85874342918396]%\n",
      "Train-Loss: 0.16290248930454254, Train-Acc: [0.4087912142276764, 0.67578125, 0.7620841264724731, 0.8001850247383118, 0.8238740563392639, 0.839090883731842, 0.8498319983482361, 0.8578188419342041, 0.8641901612281799]%, Test-Loss: 0.2287353277206421, Test-Acc: [0.4815465807914734, 0.696836531162262, 0.7691857218742371, 0.8053602576255798, 0.8267135620117188, 0.8409490585327148, 0.8511172533035278, 0.85874342918396, 0.8648701310157776]%\n",
      "Train-Loss: 0.1628086417913437, Train-Acc: [0.4087912142276764, 0.67578125, 0.7620841264724731, 0.8001850247383118, 0.8238740563392639, 0.839090883731842, 0.8498319983482361, 0.8578188419342041, 0.8641901612281799, 0.8692611455917358]%, Test-Loss: 0.2274368405342102, Test-Acc: [0.4815465807914734, 0.696836531162262, 0.7691857218742371, 0.8053602576255798, 0.8267135620117188, 0.8409490585327148, 0.8511172533035278, 0.85874342918396, 0.8648701310157776, 0.8697715401649475]%\n"
     ]
    },
    {
     "data": {
      "image/png": "[encoded data removed]",
      "text/plain": [
       "<Figure size 1000x800 with 2 Axes>"
      ]
     },
     "metadata": {},
     "output_type": "display_data"
    }
   ],
   "source": [
    "# train\n",
    "epochs = 10000\n",
    "\n",
    "epoch_count=[]\n",
    "train_acc = []\n",
    "test_acc = []\n",
    "\n",
    "training_loss = []\n",
    "testing_loss = []\n",
    "\n",
    "metrics = BinaryAccuracy()\n",
    "for epoch in range(epochs):\n",
    "    # set model to training mode\n",
    "    model.train()\n",
    "\n",
    "    # do forward pass \n",
    "    train_logits = model(X_train).squeeze()\n",
    "    # train prediction is torch.round(logits)\n",
    "    train_y_pred = torch.round(train_logits)\n",
    "    # calculate the loss\n",
    "    train_loss = loss_fn(train_logits, y_train.squeeze())\n",
    "    \n",
    "\n",
    "    # set optimizer to zero gradient so previous calculated gradient does not effect current calculations\n",
    "    optimizer.zero_grad()\n",
    "    # do backpropagation, calculate the gradient\n",
    "    train_loss.backward()\n",
    "    # do the gradient descent, update weights and biases\n",
    "    optimizer.step()\n",
    "\n",
    "    ## Testing\n",
    "    model.eval()\n",
    "    with torch.inference_mode():\n",
    "        test_logits = model(X_test).squeeze()\n",
    "        test_loss = loss_fn(test_logits, y_test.squeeze())\n",
    "        test_y_pred = torch.round(test_logits)\n",
    "\n",
    "        if epoch % 1000 == 0:\n",
    "            \n",
    "            metrics.update(train_y_pred, y_train)\n",
    "            train_acc.append(metrics.compute().item().detach().numpy()*100)\n",
    "\n",
    "            metrics.update(test_y_pred, y_test)\n",
    "            test_acc.append(metrics.compute().item().detach().numpy()*100)\n",
    "\n",
    "            training_loss.append(train_loss.detach().numpy())\n",
    "            testing_loss.append(test_loss.detach().numpy())\n",
    "        \n",
    "            epoch_count.append(epoch)\n",
    "\n",
    "            print(f\"Train-Loss: {train_loss}, Train-Acc: {train_acc}%, Test-Loss: {test_loss}, Test-Acc: {test_acc}%\")\n",
    "        \n",
    "        \n",
    "plt.figure(figsize=(10,8))\n",
    "plt.subplot(1,2,1)\n",
    "plt.plot(epoch_count, train_acc, label='Train Acc')\n",
    "plt.plot(epoch_count, test_acc, label='Test Acc')\n",
    "plt.legend()\n",
    "\n",
    "plt.subplot(1,2,2)\n",
    "plt.plot(epoch_count, training_loss, label='Train loss')\n",
    "plt.plot(epoch_count, testing_loss, label='Test Loss')\n",
    "plt.legend()\n",
    "plt.tight_layout()\n",
    "plt.show()\n"
   ]
  },
  {
   "cell_type": "code",
   "execution_count": null,
   "id": "0c21adce-82d3-4928-a052-bb9c7e4b0771",
   "metadata": {},
   "outputs": [],
   "source": []
  },
  {
   "cell_type": "code",
   "execution_count": null,
   "id": "e1103c49-1589-46f9-975e-86464aa1adda",
   "metadata": {},
   "outputs": [],
   "source": []
  }
 ],
 "metadata": {
  "kernelspec": {
   "display_name": "Python 3 (ipykernel)",
   "language": "python",
   "name": "python3"
  },
  "language_info": {
   "codemirror_mode": {
    "name": "ipython",
    "version": 3
   },
   "file_extension": ".py",
   "mimetype": "text/x-python",
   "name": "python",
   "nbconvert_exporter": "python",
   "pygments_lexer": "ipython3",
   "version": "3.11.6"
  }
 },
 "nbformat": 4,
 "nbformat_minor": 5
}
