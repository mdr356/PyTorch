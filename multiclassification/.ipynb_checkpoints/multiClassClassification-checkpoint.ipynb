{
 "cells": [
  {
   "cell_type": "code",
   "execution_count": 8,
   "id": "f1613f4c-8f7d-4665-9f68-ed0abe1c6108",
   "metadata": {},
   "outputs": [
    {
     "data": {
      "text/plain": [
       "(array([[-8.55503989,  7.06461794],\n",
       "        [-6.13753182, -6.58081701],\n",
       "        [-6.32130028, -6.8041042 ],\n",
       "        [ 4.18051794,  1.12332531],\n",
       "        [ 4.38028748,  0.47002673]]),\n",
       " array([3, 2, 2, 1, 1]))"
      ]
     },
     "execution_count": 8,
     "metadata": {},
     "output_type": "execute_result"
    }
   ],
   "source": [
    "from sklearn.datasets import make_blobs\n",
    "from sklearn.model_selection import train_test_split\n",
    "import matplotlib.pyplot as plt\n"
   ]
  },
  {
   "cell_type": "code",
   "execution_count": null,
   "id": "0bba154f-96f1-48a4-a00e-6bd095273b28",
   "metadata": {},
   "outputs": [],
   "source": [
    "\n",
    "NUM_FEATURES = 2\n",
    "NUM_CLASSES = 4\n",
    "X, y = make_blobs(n_samples=1000, n_features=NUM_FEATURES, centers=NUM_CLASSES, cluster_std=1.0, center_box=(-10.0, 10.0), shuffle=True, random_state=42)\n",
    "\n",
    "X[:5], y[:5]"
   ]
  },
  {
   "cell_type": "code",
   "execution_count": null,
   "id": "941caff1-004d-41d4-93a3-58b9fcd8139f",
   "metadata": {},
   "outputs": [],
   "source": [
    "plt.scatter("
   ]
  }
 ],
 "metadata": {
  "kernelspec": {
   "display_name": "Python 3 (ipykernel)",
   "language": "python",
   "name": "python3"
  },
  "language_info": {
   "codemirror_mode": {
    "name": "ipython",
    "version": 3
   },
   "file_extension": ".py",
   "mimetype": "text/x-python",
   "name": "python",
   "nbconvert_exporter": "python",
   "pygments_lexer": "ipython3",
   "version": "3.11.6"
  }
 },
 "nbformat": 4,
 "nbformat_minor": 5
}
