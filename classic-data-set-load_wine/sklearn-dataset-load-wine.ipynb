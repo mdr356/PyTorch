{
 "cells": [
  {
   "cell_type": "code",
   "execution_count": 35,
   "id": "92fa9711-2e0f-4915-a8e0-0e975a543f0c",
   "metadata": {},
   "outputs": [],
   "source": [
    "import torch\n",
    "import torch.nn as nn\n",
    "import torch.optim as optim\n",
    "import matplotlib.pyplot as plt\n",
    "from sklearn.datasets import load_wine\n",
    "from sklearn.model_selection import train_test_split\n",
    "import sys, os\n",
    "sys.path.insert(0, os.path.abspath(\"/Users/marcdanielregistre/machine_learning/pytorch\"))\n",
    "from helper_functions import plot_predictions, plot_decision_boundary"
   ]
  },
  {
   "cell_type": "code",
   "execution_count": 36,
   "id": "9d8cfb94-f11b-4c5e-8316-e5d6ab02f9b2",
   "metadata": {},
   "outputs": [
    {
     "data": {
      "text/plain": [
       "['class_0', 'class_1', 'class_2']"
      ]
     },
     "execution_count": 36,
     "metadata": {},
     "output_type": "execute_result"
    }
   ],
   "source": [
    "data = load_wine()\n",
    "list(data.target_names)"
   ]
  },
  {
   "cell_type": "code",
   "execution_count": 37,
   "id": "140260cc-85d8-4674-b7d9-a3eb0f5bb9ef",
   "metadata": {},
   "outputs": [
    {
     "data": {
      "text/plain": [
       "{'data': array([[1.423e+01, 1.710e+00, 2.430e+00, ..., 1.040e+00, 3.920e+00,\n",
       "         1.065e+03],\n",
       "        [1.320e+01, 1.780e+00, 2.140e+00, ..., 1.050e+00, 3.400e+00,\n",
       "         1.050e+03],\n",
       "        [1.316e+01, 2.360e+00, 2.670e+00, ..., 1.030e+00, 3.170e+00,\n",
       "         1.185e+03],\n",
       "        ...,\n",
       "        [1.327e+01, 4.280e+00, 2.260e+00, ..., 5.900e-01, 1.560e+00,\n",
       "         8.350e+02],\n",
       "        [1.317e+01, 2.590e+00, 2.370e+00, ..., 6.000e-01, 1.620e+00,\n",
       "         8.400e+02],\n",
       "        [1.413e+01, 4.100e+00, 2.740e+00, ..., 6.100e-01, 1.600e+00,\n",
       "         5.600e+02]]),\n",
       " 'target': array([0, 0, 0, 0, 0, 0, 0, 0, 0, 0, 0, 0, 0, 0, 0, 0, 0, 0, 0, 0, 0, 0,\n",
       "        0, 0, 0, 0, 0, 0, 0, 0, 0, 0, 0, 0, 0, 0, 0, 0, 0, 0, 0, 0, 0, 0,\n",
       "        0, 0, 0, 0, 0, 0, 0, 0, 0, 0, 0, 0, 0, 0, 0, 1, 1, 1, 1, 1, 1, 1,\n",
       "        1, 1, 1, 1, 1, 1, 1, 1, 1, 1, 1, 1, 1, 1, 1, 1, 1, 1, 1, 1, 1, 1,\n",
       "        1, 1, 1, 1, 1, 1, 1, 1, 1, 1, 1, 1, 1, 1, 1, 1, 1, 1, 1, 1, 1, 1,\n",
       "        1, 1, 1, 1, 1, 1, 1, 1, 1, 1, 1, 1, 1, 1, 1, 1, 1, 1, 1, 1, 2, 2,\n",
       "        2, 2, 2, 2, 2, 2, 2, 2, 2, 2, 2, 2, 2, 2, 2, 2, 2, 2, 2, 2, 2, 2,\n",
       "        2, 2, 2, 2, 2, 2, 2, 2, 2, 2, 2, 2, 2, 2, 2, 2, 2, 2, 2, 2, 2, 2,\n",
       "        2, 2]),\n",
       " 'frame': None,\n",
       " 'target_names': array(['class_0', 'class_1', 'class_2'], dtype='<U7'),\n",
       " 'DESCR': '.. _wine_dataset:\\n\\nWine recognition dataset\\n------------------------\\n\\n**Data Set Characteristics:**\\n\\n    :Number of Instances: 178\\n    :Number of Attributes: 13 numeric, predictive attributes and the class\\n    :Attribute Information:\\n \\t\\t- Alcohol\\n \\t\\t- Malic acid\\n \\t\\t- Ash\\n\\t\\t- Alcalinity of ash  \\n \\t\\t- Magnesium\\n\\t\\t- Total phenols\\n \\t\\t- Flavanoids\\n \\t\\t- Nonflavanoid phenols\\n \\t\\t- Proanthocyanins\\n\\t\\t- Color intensity\\n \\t\\t- Hue\\n \\t\\t- OD280/OD315 of diluted wines\\n \\t\\t- Proline\\n\\n    - class:\\n            - class_0\\n            - class_1\\n            - class_2\\n\\t\\t\\n    :Summary Statistics:\\n    \\n    ============================= ==== ===== ======= =====\\n                                   Min   Max   Mean     SD\\n    ============================= ==== ===== ======= =====\\n    Alcohol:                      11.0  14.8    13.0   0.8\\n    Malic Acid:                   0.74  5.80    2.34  1.12\\n    Ash:                          1.36  3.23    2.36  0.27\\n    Alcalinity of Ash:            10.6  30.0    19.5   3.3\\n    Magnesium:                    70.0 162.0    99.7  14.3\\n    Total Phenols:                0.98  3.88    2.29  0.63\\n    Flavanoids:                   0.34  5.08    2.03  1.00\\n    Nonflavanoid Phenols:         0.13  0.66    0.36  0.12\\n    Proanthocyanins:              0.41  3.58    1.59  0.57\\n    Colour Intensity:              1.3  13.0     5.1   2.3\\n    Hue:                          0.48  1.71    0.96  0.23\\n    OD280/OD315 of diluted wines: 1.27  4.00    2.61  0.71\\n    Proline:                       278  1680     746   315\\n    ============================= ==== ===== ======= =====\\n\\n    :Missing Attribute Values: None\\n    :Class Distribution: class_0 (59), class_1 (71), class_2 (48)\\n    :Creator: R.A. Fisher\\n    :Donor: Michael Marshall (MARSHALL%PLU@io.arc.nasa.gov)\\n    :Date: July, 1988\\n\\nThis is a copy of UCI ML Wine recognition datasets.\\nhttps://archive.ics.uci.edu/ml/machine-learning-databases/wine/wine.data\\n\\nThe data is the results of a chemical analysis of wines grown in the same\\nregion in Italy by three different cultivators. There are thirteen different\\nmeasurements taken for different constituents found in the three types of\\nwine.\\n\\nOriginal Owners: \\n\\nForina, M. et al, PARVUS - \\nAn Extendible Package for Data Exploration, Classification and Correlation. \\nInstitute of Pharmaceutical and Food Analysis and Technologies,\\nVia Brigata Salerno, 16147 Genoa, Italy.\\n\\nCitation:\\n\\nLichman, M. (2013). UCI Machine Learning Repository\\n[https://archive.ics.uci.edu/ml]. Irvine, CA: University of California,\\nSchool of Information and Computer Science. \\n\\n|details-start|\\n**References**\\n|details-split|\\n\\n(1) S. Aeberhard, D. Coomans and O. de Vel, \\nComparison of Classifiers in High Dimensional Settings, \\nTech. Rep. no. 92-02, (1992), Dept. of Computer Science and Dept. of  \\nMathematics and Statistics, James Cook University of North Queensland. \\n(Also submitted to Technometrics). \\n\\nThe data was used with many others for comparing various \\nclassifiers. The classes are separable, though only RDA \\nhas achieved 100% correct classification. \\n(RDA : 100%, QDA 99.4%, LDA 98.9%, 1NN 96.1% (z-transformed data)) \\n(All results using the leave-one-out technique) \\n\\n(2) S. Aeberhard, D. Coomans and O. de Vel, \\n\"THE CLASSIFICATION PERFORMANCE OF RDA\" \\nTech. Rep. no. 92-01, (1992), Dept. of Computer Science and Dept. of \\nMathematics and Statistics, James Cook University of North Queensland. \\n(Also submitted to Journal of Chemometrics).\\n\\n|details-end|',\n",
       " 'feature_names': ['alcohol',\n",
       "  'malic_acid',\n",
       "  'ash',\n",
       "  'alcalinity_of_ash',\n",
       "  'magnesium',\n",
       "  'total_phenols',\n",
       "  'flavanoids',\n",
       "  'nonflavanoid_phenols',\n",
       "  'proanthocyanins',\n",
       "  'color_intensity',\n",
       "  'hue',\n",
       "  'od280/od315_of_diluted_wines',\n",
       "  'proline']}"
      ]
     },
     "execution_count": 37,
     "metadata": {},
     "output_type": "execute_result"
    }
   ],
   "source": [
    "data"
   ]
  },
  {
   "cell_type": "code",
   "execution_count": 38,
   "id": "0385464c-3f83-47c7-b280-c7c37bd1ce30",
   "metadata": {},
   "outputs": [],
   "source": [
    "# there are\n",
    "X = data.data\n",
    "y = data.target\n"
   ]
  },
  {
   "cell_type": "code",
   "execution_count": 39,
   "id": "73fea348-d675-4e46-9c21-c1f9457e2b1e",
   "metadata": {},
   "outputs": [],
   "source": [
    "\n",
    "X = torch.from_numpy(X).type(torch.float32)\n",
    "y = torch.from_numpy(y).type(torch.float32)\n"
   ]
  },
  {
   "cell_type": "code",
   "execution_count": 40,
   "id": "0fbe766d-5cf8-4d6e-9602-557ccb11d296",
   "metadata": {},
   "outputs": [
    {
     "data": {
      "text/plain": [
       "(142, 142, 36, 36)"
      ]
     },
     "execution_count": 40,
     "metadata": {},
     "output_type": "execute_result"
    }
   ],
   "source": [
    "X_train, X_test, y_train, y_test = train_test_split(X, y, test_size=0.2, random_state=42)\n",
    "\n",
    "len(X_train), len(y_train), len(X_test), len(y_test)\n",
    "#plot_predictions(X_train, y_train, X_test, y_test)"
   ]
  },
  {
   "cell_type": "code",
   "execution_count": 41,
   "id": "9bea0339-1668-4fa5-bc43-2ed018a3b028",
   "metadata": {},
   "outputs": [
    {
     "name": "stdout",
     "output_type": "stream",
     "text": [
      "Train datatype: torch.float32 and shape: torch.Size([142, 13])\n",
      "Test Datatype: torch.float32 and shape: torch.Size([36, 13])\n"
     ]
    },
    {
     "data": {
      "text/plain": [
       "(tensor([[1.4340e+01, 1.6800e+00, 2.7000e+00, 2.5000e+01, 9.8000e+01, 2.8000e+00,\n",
       "          1.3100e+00, 5.3000e-01, 2.7000e+00, 1.3000e+01, 5.7000e-01, 1.9600e+00,\n",
       "          6.6000e+02],\n",
       "         [1.2530e+01, 5.5100e+00, 2.6400e+00, 2.5000e+01, 9.6000e+01, 1.7900e+00,\n",
       "          6.0000e-01, 6.3000e-01, 1.1000e+00, 5.0000e+00, 8.2000e-01, 1.6900e+00,\n",
       "          5.1500e+02],\n",
       "         [1.2370e+01, 1.0700e+00, 2.1000e+00, 1.8500e+01, 8.8000e+01, 3.5200e+00,\n",
       "          3.7500e+00, 2.4000e-01, 1.9500e+00, 4.5000e+00, 1.0400e+00, 2.7700e+00,\n",
       "          6.6000e+02],\n",
       "         [1.3480e+01, 1.6700e+00, 2.6400e+00, 2.2500e+01, 8.9000e+01, 2.6000e+00,\n",
       "          1.1000e+00, 5.2000e-01, 2.2900e+00, 1.1750e+01, 5.7000e-01, 1.7800e+00,\n",
       "          6.2000e+02],\n",
       "         [1.3070e+01, 1.5000e+00, 2.1000e+00, 1.5500e+01, 9.8000e+01, 2.4000e+00,\n",
       "          2.6400e+00, 2.8000e-01, 1.3700e+00, 3.7000e+00, 1.1800e+00, 2.6900e+00,\n",
       "          1.0200e+03]]),\n",
       " tensor([2., 2., 1., 2., 0.]))"
      ]
     },
     "execution_count": 41,
     "metadata": {},
     "output_type": "execute_result"
    }
   ],
   "source": [
    "print(f\"Train datatype: {X_train.dtype} and shape: {X_train.shape}\")\n",
    "print(f\"Test Datatype: {X_test.dtype} and shape: {X_test.shape}\")\n",
    "X_train[:5], y_train[:5]\n"
   ]
  },
  {
   "cell_type": "code",
   "execution_count": 42,
   "id": "3da95744-6454-40d2-a2b9-53d6830789eb",
   "metadata": {},
   "outputs": [],
   "source": [
    "class LoadWineModel(nn.Module):\n",
    "    def __init__(self, in_features, out_features, hidden_layer=100):\n",
    "        super().__init__()\n",
    "        self.linear_layer = nn.Sequential(\n",
    "            nn.Linear(in_features=in_features,\n",
    "                      out_features=hidden_layer),\n",
    "            nn.ReLU(),\n",
    "            nn.Linear(in_features=hidden_layer,\n",
    "                      out_features=hidden_layer),\n",
    "            nn.ReLU(),\n",
    "            nn.Linear(in_features=hidden_layer,\n",
    "                      out_features=out_features)\n",
    "        )\n",
    "\n",
    "    def forward(self, x: torch.Tensor)-> torch.Tensor:\n",
    "        return self.linear_layer(x)\n",
    "        "
   ]
  },
  {
   "cell_type": "code",
   "execution_count": 43,
   "id": "f5f768ae-b610-4964-90df-b392990f500f",
   "metadata": {},
   "outputs": [
    {
     "name": "stdout",
     "output_type": "stream",
     "text": [
      "Number of features: 13\n"
     ]
    },
    {
     "data": {
      "text/plain": [
       "['linear_layer.0.weight',\n",
       " 'linear_layer.0.bias',\n",
       " 'linear_layer.2.weight',\n",
       " 'linear_layer.2.bias',\n",
       " 'linear_layer.4.weight',\n",
       " 'linear_layer.4.bias']"
      ]
     },
     "execution_count": 43,
     "metadata": {},
     "output_type": "execute_result"
    }
   ],
   "source": [
    "NUM_CLASSES = 3\n",
    "IN_FEATURES = len(data.data[0]) \n",
    "\n",
    "print(f\"Number of features: {IN_FEATURES}\")\n",
    "model = LoadWineModel(IN_FEATURES, NUM_CLASSES)\n",
    "list(model.state_dict())\n"
   ]
  },
  {
   "cell_type": "code",
   "execution_count": 44,
   "id": "9dbf8bcc-0530-470f-aac8-5b7a8d539a79",
   "metadata": {},
   "outputs": [],
   "source": [
    "# Since it's a multi classification, we should use CrossEntropyLoss. whic output are logits\n",
    "# also good to use for unbalance traning data. which we do have. since Samples per class [59,71,48]\n",
    "loss_fn = nn.CrossEntropyLoss() # note: output already has a softmax activation, no need to add one manually.\n",
    "\n",
    "optimizer = torch.optim.SGD(model.parameters(), lr=0.001)\n"
   ]
  },
  {
   "cell_type": "code",
   "execution_count": 45,
   "id": "88703b03-305b-47c2-8023-aaabe0235eaa",
   "metadata": {},
   "outputs": [
    {
     "data": {
      "text/plain": [
       "<torch._C.Generator at 0x10ab76f10>"
      ]
     },
     "execution_count": 45,
     "metadata": {},
     "output_type": "execute_result"
    }
   ],
   "source": [
    "torch.manual_seed(42)"
   ]
  },
  {
   "cell_type": "code",
   "execution_count": 46,
   "id": "cf98ec89-172e-49da-bbdb-47324d37ffc3",
   "metadata": {},
   "outputs": [],
   "source": [
    "def acc(y_pred, y_value):\n",
    "    true_value = torch.eq(y_pred, y_value).sum().item() # cound how many are the same and return that count\n",
    "    return true_value*100/len(y_value)"
   ]
  },
  {
   "cell_type": "code",
   "execution_count": null,
   "id": "02777e09-a67c-41b2-a2a4-036ec2bb9bf5",
   "metadata": {},
   "outputs": [
    {
     "name": "stdout",
     "output_type": "stream",
     "text": [
      "Epoch: 0, Train Acc:26.760563380281692%, Train Loss: 4.936889171600342, Test Acc: 22.22222222222222%, Test Loss: 46.898353576660156\n",
      "Epoch: 1000, Train Acc:69.71830985915493%, Train Loss: 0.609897255897522, Test Acc: 66.66666666666667%, Test Loss: 0.5800349712371826\n",
      "Epoch: 2000, Train Acc:70.4225352112676%, Train Loss: 0.6133891940116882, Test Acc: 80.55555555555556%, Test Loss: 0.5436550378799438\n",
      "Epoch: 3000, Train Acc:71.12676056338029%, Train Loss: 0.5682226419448853, Test Acc: 69.44444444444444%, Test Loss: 0.4892668128013611\n",
      "Epoch: 4000, Train Acc:79.5774647887324%, Train Loss: 0.5417397022247314, Test Acc: 69.44444444444444%, Test Loss: 0.47255802154541016\n",
      "Epoch: 5000, Train Acc:75.35211267605634%, Train Loss: 0.4855332672595978, Test Acc: 72.22222222222223%, Test Loss: 0.4621955156326294\n",
      "Epoch: 6000, Train Acc:76.7605633802817%, Train Loss: 0.44159963726997375, Test Acc: 88.88888888888889%, Test Loss: 0.37300264835357666\n",
      "Epoch: 7000, Train Acc:76.05633802816901%, Train Loss: 0.46472328901290894, Test Acc: 83.33333333333333%, Test Loss: 0.42720964550971985\n",
      "Epoch: 8000, Train Acc:72.53521126760563%, Train Loss: 0.497743159532547, Test Acc: 83.33333333333333%, Test Loss: 0.46141064167022705\n",
      "Epoch: 9000, Train Acc:82.3943661971831%, Train Loss: 0.3720998167991638, Test Acc: 77.77777777777777%, Test Loss: 0.4153743088245392\n",
      "Epoch: 10000, Train Acc:80.28169014084507%, Train Loss: 0.40363070368766785, Test Acc: 88.88888888888889%, Test Loss: 0.286115437746048\n",
      "Epoch: 11000, Train Acc:83.09859154929578%, Train Loss: 0.3867753744125366, Test Acc: 86.11111111111111%, Test Loss: 0.31656157970428467\n",
      "Epoch: 12000, Train Acc:72.53521126760563%, Train Loss: 0.5698520541191101, Test Acc: 86.11111111111111%, Test Loss: 0.3924492597579956\n",
      "Epoch: 13000, Train Acc:92.95774647887323%, Train Loss: 0.2758220434188843, Test Acc: 91.66666666666667%, Test Loss: 0.26346683502197266\n",
      "Epoch: 14000, Train Acc:93.66197183098592%, Train Loss: 0.2415669709444046, Test Acc: 88.88888888888889%, Test Loss: 0.23153959214687347\n",
      "Epoch: 15000, Train Acc:72.53521126760563%, Train Loss: 0.5686364769935608, Test Acc: 80.55555555555556%, Test Loss: 0.41427549719810486\n",
      "Epoch: 16000, Train Acc:85.91549295774648%, Train Loss: 0.3075680136680603, Test Acc: 86.11111111111111%, Test Loss: 0.3162927031517029\n",
      "Epoch: 17000, Train Acc:88.02816901408451%, Train Loss: 0.2735237777233124, Test Acc: 83.33333333333333%, Test Loss: 0.2977622151374817\n",
      "Epoch: 18000, Train Acc:95.07042253521126%, Train Loss: 0.19955335557460785, Test Acc: 88.88888888888889%, Test Loss: 0.22797663509845734\n",
      "Epoch: 19000, Train Acc:86.61971830985915%, Train Loss: 0.2704024910926819, Test Acc: 80.55555555555556%, Test Loss: 0.35422390699386597\n",
      "Epoch: 20000, Train Acc:95.77464788732394%, Train Loss: 0.2109592854976654, Test Acc: 86.11111111111111%, Test Loss: 0.2673023045063019\n",
      "Epoch: 21000, Train Acc:91.54929577464789%, Train Loss: 0.22781215608119965, Test Acc: 83.33333333333333%, Test Loss: 0.314644992351532\n",
      "Epoch: 22000, Train Acc:80.98591549295774%, Train Loss: 0.30015942454338074, Test Acc: 83.33333333333333%, Test Loss: 0.30292627215385437\n",
      "Epoch: 23000, Train Acc:89.43661971830986%, Train Loss: 0.2450668215751648, Test Acc: 80.55555555555556%, Test Loss: 0.31886041164398193\n"
     ]
    }
   ],
   "source": [
    "epochs = 40000\n",
    "training_loss=[]\n",
    "testing_loss=[]\n",
    "training_acc=[]\n",
    "testing_acc=[]\n",
    "epoch_count=[]\n",
    "\n",
    "for epoch in range(epochs):\n",
    "    model.train()\n",
    "\n",
    "    # 1. do forward pass\n",
    "    logits = model(X_train)\n",
    "    # 2. calculate the loss\n",
    "    train_loss = loss_fn(logits, y_train.type(torch.LongTensor))\n",
    "    y_pred = logits.argmax(dim=1)\n",
    "    train_acc = acc(y_pred, y_train)\n",
    "\n",
    "    # 3. since gradient accumulates, set the gradient to zero on every pass so previous calculation does not affect new one\n",
    "    optimizer.zero_grad()\n",
    "\n",
    "    # 4. do backward propagation, which is partial derivative of bhte loss function in respect to the weights and biases\n",
    "    train_loss.backward()\n",
    "\n",
    "    # 5. perform gradient descenrt : update weights and bias\n",
    "    optimizer.step()\n",
    "        \n",
    "    # Testing\n",
    "    model.eval()\n",
    "    with torch.inference_mode():\n",
    "        test_logits = model(X_test)\n",
    "        test_loss = loss_fn(test_logits, y_test.type(torch.LongTensor))\n",
    "        \n",
    "        test_y_pred = test_logits.argmax(dim=1)\n",
    "\n",
    "        if epoch % 1000 == 0:\n",
    "            epoch_count.append(epoch)\n",
    "            print(f\"Epoch: {epoch}, Train Acc:{acc(y_pred, y_train)}%, Train Loss: {train_loss}, Test Acc: {acc(test_y_pred, y_test)}%, Test Loss: {test_loss}\")\n",
    "            training_loss.append(train_loss.numpy())\n",
    "            testing_loss.append(test_loss.numpy())\n",
    "            training_acc.append(train_acc)\n",
    "\n",
    "            test_acc = acc(test_y_pred, y_test)\n",
    "            testing_acc.append(test_acc)\n",
    "            \n",
    "plt.figure(figsize=(12,7))\n",
    "plt.subplot(1,2,1)\n",
    "plt.plot(epoch_count, training_loss, label='Training Loss')\n",
    "plt.plot(epoch_count, testing_loss, label='Testing Loss')\n",
    "plt.legend()\n",
    "\n",
    "plt.subplot(1,2,2)\n",
    "plt.plot(epoch_count, training_acc, label='Training Acc')\n",
    "plt.plot(epoch_count, testing_acc, label='Testing Acc')\n",
    "plt.legend()\n",
    "plt.show()"
   ]
  },
  {
   "cell_type": "code",
   "execution_count": null,
   "id": "783d94a0-4fa3-43b7-98d7-99bc84768723",
   "metadata": {},
   "outputs": [],
   "source": [
    "pwd"
   ]
  },
  {
   "cell_type": "code",
   "execution_count": null,
   "id": "b2c90a2d-b3dd-4ff7-968a-899f2313ee6b",
   "metadata": {},
   "outputs": [],
   "source": [
    "torch.save(model.state_dict(), \"/Users/marcdanielregistre/machine_learning/pytorch/classic-data-set-load_wine/load_win_mode.pt\")"
   ]
  },
  {
   "cell_type": "code",
   "execution_count": null,
   "id": "aa884b89-868a-4ba6-9bf5-7064077a8c31",
   "metadata": {},
   "outputs": [],
   "source": [
    "model_loaded = LoadWineModel(IN_FEATURES, NUM_CLASSES)\n",
    "model_loaded.load_state_dict(torch.load(\"/Users/marcdanielregistre/machine_learning/pytorch/classic-data-set-load_wine/load_win_mode.pt\"))\n",
    "model_loaded.eval()\n",
    "with torch.inference_mode():\n",
    "    loaded_logits = model(X_test)\n",
    "    loaded_pred = loaded_logits.argmax(dim=1)\n",
    "    loaded_acc = acc(loaded_pred, y_test)\n",
    "    print(f\"Loaded model accuracy: {loaded_acc}\")\n"
   ]
  }
 ],
 "metadata": {
  "kernelspec": {
   "display_name": "Python 3 (ipykernel)",
   "language": "python",
   "name": "python3"
  },
  "language_info": {
   "codemirror_mode": {
    "name": "ipython",
    "version": 3
   },
   "file_extension": ".py",
   "mimetype": "text/x-python",
   "name": "python",
   "nbconvert_exporter": "python",
   "pygments_lexer": "ipython3",
   "version": "3.11.6"
  }
 },
 "nbformat": 4,
 "nbformat_minor": 5
}
