{
 "cells": [
  {
   "cell_type": "code",
   "execution_count": 1,
   "id": "e1b76cab-0282-43a2-9cf9-216ae0c29dde",
   "metadata": {},
   "outputs": [],
   "source": [
    "import torch"
   ]
  },
  {
   "cell_type": "code",
   "execution_count": 4,
   "id": "b8c5a8a2-0013-4c26-be02-47376be34d44",
   "metadata": {},
   "outputs": [
    {
     "data": {
      "text/plain": [
       "tensor(7)"
      ]
     },
     "execution_count": 4,
     "metadata": {},
     "output_type": "execute_result"
    }
   ],
   "source": [
    "torch.tensor(7)"
   ]
  },
  {
   "cell_type": "code",
   "execution_count": 7,
   "id": "34c4158f-7034-41e4-b875-936e4704add0",
   "metadata": {},
   "outputs": [
    {
     "data": {
      "text/plain": [
       "tensor([[ 1, -1],\n",
       "        [ 1, -1]])"
      ]
     },
     "execution_count": 7,
     "metadata": {},
     "output_type": "execute_result"
    }
   ],
   "source": [
    "input = torch.tensor([[1,-1],[1,-1]])\n",
    "input"
   ]
  },
  {
   "cell_type": "code",
   "execution_count": 8,
   "id": "ee99dd4d-732f-432a-9547-6319bf7f223c",
   "metadata": {},
   "outputs": [
    {
     "data": {
      "text/plain": [
       "torch.Size([2, 2])"
      ]
     },
     "execution_count": 8,
     "metadata": {},
     "output_type": "execute_result"
    }
   ],
   "source": [
    "input.shape"
   ]
  },
  {
   "cell_type": "code",
   "execution_count": 9,
   "id": "4aed5c7d-99fc-48db-bcc4-77025f21e26f",
   "metadata": {},
   "outputs": [
    {
     "data": {
      "text/plain": [
       "torch.Size([])"
      ]
     },
     "execution_count": 9,
     "metadata": {},
     "output_type": "execute_result"
    }
   ],
   "source": [
    "input2 = torch.tensor(1)\n",
    "input2.shape"
   ]
  },
  {
   "cell_type": "code",
   "execution_count": 10,
   "id": "df8bd4d8-652d-449a-b7f2-9ff8277ba7fc",
   "metadata": {},
   "outputs": [
    {
     "data": {
      "text/plain": [
       "torch.Size([1])"
      ]
     },
     "execution_count": 10,
     "metadata": {},
     "output_type": "execute_result"
    }
   ],
   "source": [
    "input3 = torch.tensor([1])\n",
    "input3.shape"
   ]
  },
  {
   "cell_type": "code",
   "execution_count": 13,
   "id": "baa22a9e-0bfb-40d2-99a3-10cf952f5221",
   "metadata": {},
   "outputs": [
    {
     "data": {
      "text/plain": [
       "tensor([[ 1., -1.],\n",
       "        [ 1., -1.]], dtype=torch.float64)"
      ]
     },
     "execution_count": 13,
     "metadata": {},
     "output_type": "execute_result"
    }
   ],
   "source": [
    "input4 = torch.tensor([[1,-1], [1,-1]], dtype=torch.float64)\n",
    "input4\n"
   ]
  },
  {
   "cell_type": "code",
   "execution_count": 16,
   "id": "3780e4ff-3926-4e3c-a0a6-45632f63620f",
   "metadata": {},
   "outputs": [
    {
     "data": {
      "text/plain": [
       "tensor([[0., 0.],\n",
       "        [0., 0.]])"
      ]
     },
     "execution_count": 16,
     "metadata": {},
     "output_type": "execute_result"
    }
   ],
   "source": [
    "torch.zeros(2,2, dtype=torch.float32)"
   ]
  },
  {
   "cell_type": "code",
   "execution_count": 17,
   "id": "6167a422-f40f-4920-a001-ff8ab8ed9541",
   "metadata": {},
   "outputs": [
    {
     "data": {
      "text/plain": [
       "tensor([[1., 1., 1., 1., 1.],\n",
       "        [1., 1., 1., 1., 1.],\n",
       "        [1., 1., 1., 1., 1.],\n",
       "        [1., 1., 1., 1., 1.],\n",
       "        [1., 1., 1., 1., 1.]])"
      ]
     },
     "execution_count": 17,
     "metadata": {},
     "output_type": "execute_result"
    }
   ],
   "source": [
    "torch.ones(5,5)"
   ]
  },
  {
   "cell_type": "code",
   "execution_count": 23,
   "id": "80e8d08a-d5b3-418c-8015-a3b659dd8876",
   "metadata": {},
   "outputs": [
    {
     "data": {
      "text/plain": [
       "tensor([[0.9405, 0.1300, 0.6505],\n",
       "        [0.3542, 0.1116, 0.1361]])"
      ]
     },
     "execution_count": 23,
     "metadata": {},
     "output_type": "execute_result"
    }
   ],
   "source": [
    "torch.rand(2,3)"
   ]
  },
  {
   "cell_type": "code",
   "execution_count": 31,
   "id": "39052a69-0189-408d-b169-f3338976b302",
   "metadata": {},
   "outputs": [
    {
     "data": {
      "text/plain": [
       "tensor([[0.9446, 0.3808, 0.5170],\n",
       "        [0.0876, 0.5813, 0.0638]])"
      ]
     },
     "execution_count": 31,
     "metadata": {},
     "output_type": "execute_result"
    }
   ],
   "source": [
    "input5 = torch.rand(2,3)\n",
    "input5"
   ]
  },
  {
   "cell_type": "code",
   "execution_count": 32,
   "id": "ed6a3a89-3799-4d1d-b286-591c675f07aa",
   "metadata": {},
   "outputs": [
    {
     "data": {
      "text/plain": [
       "tensor(0.9446)"
      ]
     },
     "execution_count": 32,
     "metadata": {},
     "output_type": "execute_result"
    }
   ],
   "source": [
    "input5.max()"
   ]
  },
  {
   "cell_type": "code",
   "execution_count": 33,
   "id": "ff31e83d-d416-4cb8-ae99-64e2971f8451",
   "metadata": {},
   "outputs": [
    {
     "data": {
      "text/plain": [
       "tensor(0.0638)"
      ]
     },
     "execution_count": 33,
     "metadata": {},
     "output_type": "execute_result"
    }
   ],
   "source": [
    "input5.min()"
   ]
  },
  {
   "cell_type": "code",
   "execution_count": null,
   "id": "28e8e540-a0fc-4809-ad09-a79f28a95d96",
   "metadata": {},
   "outputs": [],
   "source": [
    "start = 0\n",
    "steps = 0.02\n",
    "end = 1\n",
    "X = torch.arange(start, end, steps)\n",
    "Y = "
   ]
  }
 ],
 "metadata": {
  "kernelspec": {
   "display_name": "Python 3 (ipykernel)",
   "language": "python",
   "name": "python3"
  },
  "language_info": {
   "codemirror_mode": {
    "name": "ipython",
    "version": 3
   },
   "file_extension": ".py",
   "mimetype": "text/x-python",
   "name": "python",
   "nbconvert_exporter": "python",
   "pygments_lexer": "ipython3",
   "version": "3.11.6"
  }
 },
 "nbformat": 4,
 "nbformat_minor": 5
}
