{
 "cells": [
  {
   "cell_type": "code",
   "execution_count": null,
   "id": "a37dcbec-031f-4cf5-8d68-3788bfe1028c",
   "metadata": {},
   "outputs": [],
   "source": [
    "import matplotlib.pyplot as plt\n",
    "import torch\n",
    "\n",
    "class Plotting:\n",
    "    def __init__(self, figSize=(10,7)):\n",
    "        plt.figure(figsize=figSize)\n",
    "        \n",
    "    def plot_prediction(train_data: torch.Tensor,\n",
    "                        train_labels: torch.Tensor,\n",
    "                        test_data: torch.Tensor,\n",
    "                        test_labels: torch.Tensor,\n",
    "                        predictions=None):\n",
    "        # plot training data in blue\n",
    "        plt.scatter(train_data,\n",
    "                    train_labels,\n",
    "                    c=\"b\",\n",
    "                    s=4,\n",
    "                    label=\"Training Data\")\n",
    "\n",
    "        # plot testing data in green\n",
    "        plt.scatter(test_data, \n",
    "                    test_labels,\n",
    "                    c=\"g\",\n",
    "                    s=4,\n",
    "                    label=\"Testing Data\")\n",
    "\n",
    "        # plot prediction\n",
    "        if predictions is not None:\n",
    "            plt.scatter(test_data,\n",
    "                        predictions,\n",
    "                        c=\"r\",\n",
    "                        s=4,\n",
    "                        label=\"Predictions\")\n",
    "\n",
    "        # show the legend\n",
    "        plt.legend(prop={\"size\":14})\n",
    "    "
   ]
  }
 ],
 "metadata": {
  "kernelspec": {
   "display_name": "Python 3 (ipykernel)",
   "language": "python",
   "name": "python3"
  },
  "language_info": {
   "codemirror_mode": {
    "name": "ipython",
    "version": 3
   },
   "file_extension": ".py",
   "mimetype": "text/x-python",
   "name": "python",
   "nbconvert_exporter": "python",
   "pygments_lexer": "ipython3",
   "version": "3.11.6"
  }
 },
 "nbformat": 4,
 "nbformat_minor": 5
}
